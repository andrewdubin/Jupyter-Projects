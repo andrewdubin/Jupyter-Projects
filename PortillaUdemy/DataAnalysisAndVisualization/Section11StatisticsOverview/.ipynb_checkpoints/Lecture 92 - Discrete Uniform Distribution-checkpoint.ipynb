{
 "cells": [
  {
   "cell_type": "markdown",
   "metadata": {},
   "source": [
    "Definition: A random variable x has a discrete uniform distribution if each of the n values in its range: x1,x2,x3...xn has equal probability: f(xi) = 1/n"
   ]
  },
  {
   "cell_type": "code",
   "execution_count": 1,
   "metadata": {},
   "outputs": [],
   "source": [
    "import numpy as np\n",
    "from numpy.random import randn\n",
    "import pandas as pd\n",
    "from scipy import stats\n",
    "import matplotlib as mpl\n",
    "import matplotlib.pyplot as plt\n",
    "import seaborn as sns\n",
    "%matplotlib inline"
   ]
  },
  {
   "cell_type": "code",
   "execution_count": 14,
   "metadata": {},
   "outputs": [
    {
     "data": {
      "text/plain": [
       "Text(0.5, 1.0, 'Probability Mass Function for Dice Roll')"
      ]
     },
     "execution_count": 14,
     "metadata": {},
     "output_type": "execute_result"
    },
    {
     "data": {
      "image/png": "[encoded data removed]",
      "text/plain": [
       "<Figure size 432x288 with 1 Axes>"
      ]
     },
     "metadata": {
      "needs_background": "light"
     },
     "output_type": "display_data"
    }
   ],
   "source": [
    "#dice are a good example of a discrete uniform distribution\n",
    "#each number\n",
    "roll_options = np.arange(1,7)\n",
    "#total probability space\n",
    "tprob = 1\n",
    "#each roll has the same odds of appearing\n",
    "prob_roll = tprob / len(roll_options)\n",
    "#plot using seaborn rugplot\n",
    "uni_plot = sns.rugplot(roll_options,height=prob_roll,c='red')\n",
    "#set title\n",
    "uni_plot.set_title('Probability Mass Function for Dice Roll')"
   ]
  },
  {
   "cell_type": "markdown",
   "metadata": {},
   "source": [
    "So what's the mean and variance of this uniform distribution?\n",
    "\n",
    "The mean is simply the max and min value divided by two, just like the mean of two numbers.\n",
    "\n",
    "μ=(b+a)/2\n",
    "\n",
    "With a variance of: σ^2=((b−a+1)^2−1 )/ 12"
   ]
  },
  {
   "cell_type": "code",
   "execution_count": 12,
   "metadata": {},
   "outputs": [
    {
     "name": "stdout",
     "output_type": "stream",
     "text": [
      "The mean is 3.5\n"
     ]
    }
   ],
   "source": [
    "# Imports\n",
    "from scipy.stats import randint\n",
    "\n",
    "#Set up a low and high boundary for dice roll ( go to 7 since index starts at 0)\n",
    "low,high = 1,7\n",
    "\n",
    "# Get mean and variance\n",
    "mean,var = randint.stats(low,high)\n",
    "\n",
    "print('The mean is %2.1f' %mean)"
   ]
  },
  {
   "cell_type": "code",
   "execution_count": 13,
   "metadata": {},
   "outputs": [
    {
     "data": {
      "text/plain": [
       "<BarContainer object of 6 artists>"
      ]
     },
     "execution_count": 13,
     "metadata": {},
     "output_type": "execute_result"
    },
    {
     "data": {
      "image/png": "[encoded data removed]",
      "text/plain": [
       "<Figure size 432x288 with 1 Axes>"
      ]
     },
     "metadata": {
      "needs_background": "light"
     },
     "output_type": "display_data"
    }
   ],
   "source": [
    "# Now we can make a simple bar plot\n",
    "plt.bar(roll_options,randint.pmf(roll_options,low,high))"
   ]
  },
  {
   "cell_type": "code",
   "execution_count": null,
   "metadata": {},
   "outputs": [],
   "source": []
  }
 ],
 "metadata": {
  "kernelspec": {
   "display_name": "Python 3",
   "language": "python",
   "name": "python3"
  },
  "language_info": {
   "codemirror_mode": {
    "name": "ipython",
    "version": 3
   },
   "file_extension": ".py",
   "mimetype": "text/x-python",
   "name": "python",
   "nbconvert_exporter": "python",
   "pygments_lexer": "ipython3",
   "version": "3.8.1"
  }
 },
 "nbformat": 4,
 "nbformat_minor": 4
}
